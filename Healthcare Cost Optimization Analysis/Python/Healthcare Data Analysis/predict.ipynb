{
 "cells": [
  {
   "cell_type": "code",
   "execution_count": null,
   "metadata": {},
   "outputs": [],
   "source": [
    "import pandas as pd\n",
    "import matplotlib.pyplot as plt\n",
    "from statsmodels.tsa.arima.model import ARIMA"
   ]
  },
  {
   "cell_type": "code",
   "execution_count": null,
   "metadata": {},
   "outputs": [],
   "source": [
    "# Load dataset\n",
    "df = pd.read_csv(\"healthcare_claims_cleaned_final.csv\", parse_dates=[\"Date\"], index_col=\"Date\")\n",
    "\n",
    "# Aggregate cost per month\n",
    "df_monthly = df.resample(\"M\").sum()[\"Billing_Amount\"]\n",
    "\n",
    "# Fit ARIMA model\n",
    "model = ARIMA(df_monthly, order=(5,1,0))\n",
    "model_fit = model.fit()\n",
    "\n",
    "# Forecast next 6 months\n",
    "forecast = model_fit.forecast(steps=6)\n",
    "\n",
    "# Plot forecast\n",
    "plt.figure(figsize=(10,5))\n",
    "plt.plot(df_monthly, label=\"Actual\")\n",
    "plt.plot(forecast, label=\"Forecast\", linestyle=\"dashed\", color=\"red\")\n",
    "plt.legend()\n",
    "plt.show()"
   ]
  }
 ],
 "metadata": {
  "language_info": {
   "name": "python"
  }
 },
 "nbformat": 4,
 "nbformat_minor": 2
}
